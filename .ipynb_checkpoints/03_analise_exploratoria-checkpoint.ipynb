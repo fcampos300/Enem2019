{
 "cells": [
  {
   "cell_type": "markdown",
   "metadata": {},
   "source": [
    "# Análise Exploratória dos dados do Enem de 2019 dos alunos residentes em MG"
   ]
  },
  {
   "cell_type": "markdown",
   "metadata": {},
   "source": [
    "**1 - Importa as bibliotecas necessárias para rodar esse notebook.**"
   ]
  },
  {
   "cell_type": "code",
   "execution_count": 2,
   "metadata": {},
   "outputs": [],
   "source": [
    "import pandas as pd\n",
    "import numpy as np\n",
    "import os"
   ]
  },
  {
   "cell_type": "markdown",
   "metadata": {},
   "source": [
    "**2 - Carrega o arquivo com os dados filtrados no notebook anterior.**"
   ]
  },
  {
   "cell_type": "code",
   "execution_count": 3,
   "metadata": {},
   "outputs": [
    {
     "name": "stdout",
     "output_type": "stream",
     "text": [
      "Wall time: 19 s\n"
     ]
    }
   ],
   "source": [
    "%%time\n",
    "folder_enem = 'enem2019'\n",
    "df_mg = pd.read_csv(f'./{folder_enem}/MICRODADOS_ENEM_2019_MG.csv', sep=';', encoding='utf-8')"
   ]
  },
  {
   "cell_type": "code",
   "execution_count": 4,
   "metadata": {},
   "outputs": [
    {
     "data": {
      "text/html": [
       "<div>\n",
       "<style scoped>\n",
       "    .dataframe tbody tr th:only-of-type {\n",
       "        vertical-align: middle;\n",
       "    }\n",
       "\n",
       "    .dataframe tbody tr th {\n",
       "        vertical-align: top;\n",
       "    }\n",
       "\n",
       "    .dataframe thead th {\n",
       "        text-align: right;\n",
       "    }\n",
       "</style>\n",
       "<table border=\"1\" class=\"dataframe\">\n",
       "  <thead>\n",
       "    <tr style=\"text-align: right;\">\n",
       "      <th></th>\n",
       "      <th>Unnamed: 0</th>\n",
       "      <th>Unnamed: 0.1</th>\n",
       "      <th>NU_INSCRICAO</th>\n",
       "      <th>NU_ANO</th>\n",
       "      <th>CO_MUNICIPIO_RESIDENCIA</th>\n",
       "      <th>NO_MUNICIPIO_RESIDENCIA</th>\n",
       "      <th>CO_UF_RESIDENCIA</th>\n",
       "      <th>SG_UF_RESIDENCIA</th>\n",
       "      <th>NU_IDADE</th>\n",
       "      <th>TP_SEXO</th>\n",
       "      <th>...</th>\n",
       "      <th>Q023</th>\n",
       "      <th>Q024</th>\n",
       "      <th>Q025</th>\n",
       "      <th>TP_ESTADO_CIVIL_DESC</th>\n",
       "      <th>TP_COR_RACA_DESC</th>\n",
       "      <th>TP_NACIONALIDADE_DESC</th>\n",
       "      <th>TP_ST_CONCLUSAO_DESC</th>\n",
       "      <th>TP_ESCOLA_DESC</th>\n",
       "      <th>TP_ENSINO_DESC</th>\n",
       "      <th>TP_STATUS_REDACAO_DESC</th>\n",
       "    </tr>\n",
       "  </thead>\n",
       "  <tbody>\n",
       "    <tr>\n",
       "      <th>0</th>\n",
       "      <td>0</td>\n",
       "      <td>1044</td>\n",
       "      <td>190001005671</td>\n",
       "      <td>2019</td>\n",
       "      <td>3170206</td>\n",
       "      <td>Uberlândia</td>\n",
       "      <td>31</td>\n",
       "      <td>MG</td>\n",
       "      <td>21</td>\n",
       "      <td>M</td>\n",
       "      <td>...</td>\n",
       "      <td>B</td>\n",
       "      <td>B</td>\n",
       "      <td>B</td>\n",
       "      <td>Solteiro(a)</td>\n",
       "      <td>Branca</td>\n",
       "      <td>Brasileiro(a)</td>\n",
       "      <td>Já concluí o Ensino Médio</td>\n",
       "      <td>Não Respondeu</td>\n",
       "      <td>NaN</td>\n",
       "      <td>Sem problemas</td>\n",
       "    </tr>\n",
       "    <tr>\n",
       "      <th>1</th>\n",
       "      <td>1</td>\n",
       "      <td>5234</td>\n",
       "      <td>190001009861</td>\n",
       "      <td>2019</td>\n",
       "      <td>3111705</td>\n",
       "      <td>Canaã</td>\n",
       "      <td>31</td>\n",
       "      <td>MG</td>\n",
       "      <td>20</td>\n",
       "      <td>M</td>\n",
       "      <td>...</td>\n",
       "      <td>A</td>\n",
       "      <td>A</td>\n",
       "      <td>A</td>\n",
       "      <td>Solteiro(a)</td>\n",
       "      <td>Branca</td>\n",
       "      <td>Brasileiro(a)</td>\n",
       "      <td>Já concluí o Ensino Médio</td>\n",
       "      <td>Não Respondeu</td>\n",
       "      <td>NaN</td>\n",
       "      <td>NaN</td>\n",
       "    </tr>\n",
       "    <tr>\n",
       "      <th>2</th>\n",
       "      <td>2</td>\n",
       "      <td>16995</td>\n",
       "      <td>190001021622</td>\n",
       "      <td>2019</td>\n",
       "      <td>3104007</td>\n",
       "      <td>Araxá</td>\n",
       "      <td>31</td>\n",
       "      <td>MG</td>\n",
       "      <td>24</td>\n",
       "      <td>M</td>\n",
       "      <td>...</td>\n",
       "      <td>A</td>\n",
       "      <td>A</td>\n",
       "      <td>B</td>\n",
       "      <td>Solteiro(a)</td>\n",
       "      <td>Preta</td>\n",
       "      <td>Brasileiro(a)</td>\n",
       "      <td>Já concluí o Ensino Médio</td>\n",
       "      <td>Não Respondeu</td>\n",
       "      <td>Ensino Regular</td>\n",
       "      <td>NaN</td>\n",
       "    </tr>\n",
       "    <tr>\n",
       "      <th>3</th>\n",
       "      <td>3</td>\n",
       "      <td>22008</td>\n",
       "      <td>190001026636</td>\n",
       "      <td>2019</td>\n",
       "      <td>3106200</td>\n",
       "      <td>Belo Horizonte</td>\n",
       "      <td>31</td>\n",
       "      <td>MG</td>\n",
       "      <td>33</td>\n",
       "      <td>M</td>\n",
       "      <td>...</td>\n",
       "      <td>A</td>\n",
       "      <td>D</td>\n",
       "      <td>B</td>\n",
       "      <td>Solteiro(a)</td>\n",
       "      <td>Branca</td>\n",
       "      <td>Brasileiro(a)</td>\n",
       "      <td>Já concluí o Ensino Médio</td>\n",
       "      <td>Não Respondeu</td>\n",
       "      <td>NaN</td>\n",
       "      <td>NaN</td>\n",
       "    </tr>\n",
       "    <tr>\n",
       "      <th>4</th>\n",
       "      <td>4</td>\n",
       "      <td>22114</td>\n",
       "      <td>190001026742</td>\n",
       "      <td>2019</td>\n",
       "      <td>3162401</td>\n",
       "      <td>São João da Ponte</td>\n",
       "      <td>31</td>\n",
       "      <td>MG</td>\n",
       "      <td>23</td>\n",
       "      <td>M</td>\n",
       "      <td>...</td>\n",
       "      <td>A</td>\n",
       "      <td>B</td>\n",
       "      <td>A</td>\n",
       "      <td>Solteiro(a)</td>\n",
       "      <td>Parda</td>\n",
       "      <td>Brasileiro(a)</td>\n",
       "      <td>Já concluí o Ensino Médio</td>\n",
       "      <td>Não Respondeu</td>\n",
       "      <td>Ensino Regular</td>\n",
       "      <td>Sem problemas</td>\n",
       "    </tr>\n",
       "  </tbody>\n",
       "</table>\n",
       "<p>5 rows × 145 columns</p>\n",
       "</div>"
      ],
      "text/plain": [
       "   Unnamed: 0  Unnamed: 0.1  NU_INSCRICAO  NU_ANO  CO_MUNICIPIO_RESIDENCIA  \\\n",
       "0           0          1044  190001005671    2019                  3170206   \n",
       "1           1          5234  190001009861    2019                  3111705   \n",
       "2           2         16995  190001021622    2019                  3104007   \n",
       "3           3         22008  190001026636    2019                  3106200   \n",
       "4           4         22114  190001026742    2019                  3162401   \n",
       "\n",
       "  NO_MUNICIPIO_RESIDENCIA  CO_UF_RESIDENCIA SG_UF_RESIDENCIA  NU_IDADE  \\\n",
       "0              Uberlândia                31               MG        21   \n",
       "1                   Canaã                31               MG        20   \n",
       "2                   Araxá                31               MG        24   \n",
       "3          Belo Horizonte                31               MG        33   \n",
       "4       São João da Ponte                31               MG        23   \n",
       "\n",
       "  TP_SEXO           ...            Q023  Q024  Q025  TP_ESTADO_CIVIL_DESC  \\\n",
       "0       M           ...               B     B     B           Solteiro(a)   \n",
       "1       M           ...               A     A     A           Solteiro(a)   \n",
       "2       M           ...               A     A     B           Solteiro(a)   \n",
       "3       M           ...               A     D     B           Solteiro(a)   \n",
       "4       M           ...               A     B     A           Solteiro(a)   \n",
       "\n",
       "  TP_COR_RACA_DESC  TP_NACIONALIDADE_DESC       TP_ST_CONCLUSAO_DESC  \\\n",
       "0           Branca          Brasileiro(a)  Já concluí o Ensino Médio   \n",
       "1           Branca          Brasileiro(a)  Já concluí o Ensino Médio   \n",
       "2            Preta          Brasileiro(a)  Já concluí o Ensino Médio   \n",
       "3           Branca          Brasileiro(a)  Já concluí o Ensino Médio   \n",
       "4            Parda          Brasileiro(a)  Já concluí o Ensino Médio   \n",
       "\n",
       "   TP_ESCOLA_DESC  TP_ENSINO_DESC  TP_STATUS_REDACAO_DESC  \n",
       "0   Não Respondeu             NaN           Sem problemas  \n",
       "1   Não Respondeu             NaN                     NaN  \n",
       "2   Não Respondeu  Ensino Regular                     NaN  \n",
       "3   Não Respondeu             NaN                     NaN  \n",
       "4   Não Respondeu  Ensino Regular           Sem problemas  \n",
       "\n",
       "[5 rows x 145 columns]"
      ]
     },
     "execution_count": 4,
     "metadata": {},
     "output_type": "execute_result"
    }
   ],
   "source": [
    "df_mg.head()"
   ]
  },
  {
   "cell_type": "code",
   "execution_count": 5,
   "metadata": {},
   "outputs": [
    {
     "name": "stdout",
     "output_type": "stream",
     "text": [
      "<class 'pandas.core.frame.DataFrame'>\n",
      "RangeIndex: 538896 entries, 0 to 538895\n",
      "Columns: 145 entries, Unnamed: 0 to TP_STATUS_REDACAO_DESC\n",
      "dtypes: float64(24), int64(73), object(48)\n",
      "memory usage: 596.2+ MB\n"
     ]
    }
   ],
   "source": [
    "df_mg.info()"
   ]
  },
  {
   "cell_type": "markdown",
   "metadata": {},
   "source": [
    "# Perguntas"
   ]
  },
  {
   "cell_type": "markdown",
   "metadata": {},
   "source": [
    "1 - Qual a média das notas dos homens em: Ciências da Natureza, Ciências Humanas, Linguagens e Códigos e Matemática?"
   ]
  },
  {
   "cell_type": "code",
   "execution_count": 12,
   "metadata": {},
   "outputs": [
    {
     "data": {
      "text/plain": [
       "NU_NOTA_CN    504.149099\n",
       "NU_NOTA_CH    529.698270\n",
       "NU_NOTA_LC    532.548474\n",
       "NU_NOTA_MT    573.423840\n",
       "dtype: float64"
      ]
     },
     "execution_count": 12,
     "metadata": {},
     "output_type": "execute_result"
    }
   ],
   "source": [
    "df_mg.loc[\n",
    "    df_mg.TP_SEXO == 'M',\n",
    "    [\"NU_NOTA_CN\", \"NU_NOTA_CH\", \"NU_NOTA_LC\", \"NU_NOTA_MT\"]\n",
    "].mean()"
   ]
  },
  {
   "cell_type": "markdown",
   "metadata": {},
   "source": [
    "2 - Qual a média das notas das mulheres em: Ciências da Natureza, Ciências Humanas, Linguagens e Códigos e Matemática?"
   ]
  },
  {
   "cell_type": "code",
   "execution_count": 13,
   "metadata": {},
   "outputs": [
    {
     "data": {
      "text/plain": [
       "NU_NOTA_CN    484.670494\n",
       "NU_NOTA_CH    515.127098\n",
       "NU_NOTA_LC    530.355239\n",
       "NU_NOTA_MT    529.527359\n",
       "dtype: float64"
      ]
     },
     "execution_count": 13,
     "metadata": {},
     "output_type": "execute_result"
    }
   ],
   "source": [
    "df_mg.loc[\n",
    "    df_mg.TP_SEXO == 'F',\n",
    "    [\"NU_NOTA_CN\", \"NU_NOTA_CH\", \"NU_NOTA_LC\", \"NU_NOTA_MT\"]\n",
    "].mean()"
   ]
  },
  {
   "cell_type": "markdown",
   "metadata": {},
   "source": [
    "3 - Qual a média das notas dos homens em: Ciências da Natureza, Ciências Humanas, Linguagens e Códigos e Matemática, que moram em Belo Horizonte?"
   ]
  },
  {
   "cell_type": "code",
   "execution_count": 16,
   "metadata": {},
   "outputs": [
    {
     "data": {
      "text/plain": [
       "NU_NOTA_CN    526.300159\n",
       "NU_NOTA_CH    558.618509\n",
       "NU_NOTA_LC    553.261920\n",
       "NU_NOTA_MT    605.414389\n",
       "dtype: float64"
      ]
     },
     "execution_count": 16,
     "metadata": {},
     "output_type": "execute_result"
    }
   ],
   "source": [
    "df_mg.loc[\n",
    "    (df_mg.TP_SEXO == 'M') &\n",
    "    (df_mg.NO_MUNICIPIO_RESIDENCIA == 'Belo Horizonte'),\n",
    "    [\"NU_NOTA_CN\", \"NU_NOTA_CH\", \"NU_NOTA_LC\", \"NU_NOTA_MT\"]\n",
    "].mean()"
   ]
  },
  {
   "cell_type": "markdown",
   "metadata": {},
   "source": [
    "4 - Qual a média das notas das mulheres em: Ciências da Natureza, Ciências Humanas, Linguagens e Códigos e Matemática, que moram em Belo Horizonte?"
   ]
  },
  {
   "cell_type": "code",
   "execution_count": 17,
   "metadata": {},
   "outputs": [
    {
     "data": {
      "text/plain": [
       "NU_NOTA_CN    509.226261\n",
       "NU_NOTA_CH    541.939529\n",
       "NU_NOTA_LC    549.400139\n",
       "NU_NOTA_MT    560.018764\n",
       "dtype: float64"
      ]
     },
     "execution_count": 17,
     "metadata": {},
     "output_type": "execute_result"
    }
   ],
   "source": [
    "df_mg.loc[\n",
    "    (df_mg.TP_SEXO == 'F') &\n",
    "    (df_mg.NO_MUNICIPIO_RESIDENCIA == 'Belo Horizonte'),\n",
    "    [\"NU_NOTA_CN\", \"NU_NOTA_CH\", \"NU_NOTA_LC\", \"NU_NOTA_MT\"]\n",
    "].mean()"
   ]
  },
  {
   "cell_type": "markdown",
   "metadata": {},
   "source": [
    "5 - Qual a média das notas dos homens em: Ciências da Natureza, Ciências Humanas, Linguagens e Códigos e Matemática, que moram em Belo Horizonte e cujo a mãe completou pós graduação?"
   ]
  },
  {
   "cell_type": "code",
   "execution_count": 18,
   "metadata": {},
   "outputs": [
    {
     "data": {
      "text/plain": [
       "NU_NOTA_CN    574.596677\n",
       "NU_NOTA_CH    603.389047\n",
       "NU_NOTA_LC    583.760825\n",
       "NU_NOTA_MT    690.537283\n",
       "dtype: float64"
      ]
     },
     "execution_count": 18,
     "metadata": {},
     "output_type": "execute_result"
    }
   ],
   "source": [
    "df_mg.loc[\n",
    "    (df_mg.TP_SEXO == 'M') &\n",
    "    (df_mg.NO_MUNICIPIO_RESIDENCIA == 'Belo Horizonte') & \n",
    "    (df_mg.Q002 == 'G'),\n",
    "    [\"NU_NOTA_CN\", \"NU_NOTA_CH\", \"NU_NOTA_LC\", \"NU_NOTA_MT\"]\n",
    "].mean()"
   ]
  },
  {
   "cell_type": "markdown",
   "metadata": {},
   "source": [
    "6 - Qual a média das notas das mulheres em: Ciências da Natureza, Ciências Humanas, Linguagens e Códigos e Matemática, que moram em Belo Horizonte e cujo o pai completou pós graduação?"
   ]
  },
  {
   "cell_type": "code",
   "execution_count": 19,
   "metadata": {},
   "outputs": [
    {
     "data": {
      "text/plain": [
       "NU_NOTA_CN    574.305477\n",
       "NU_NOTA_CH    605.977884\n",
       "NU_NOTA_LC    591.861297\n",
       "NU_NOTA_MT    672.155785\n",
       "dtype: float64"
      ]
     },
     "execution_count": 19,
     "metadata": {},
     "output_type": "execute_result"
    }
   ],
   "source": [
    "df_mg.loc[\n",
    "    (df_mg.TP_SEXO == 'F') &\n",
    "    (df_mg.NO_MUNICIPIO_RESIDENCIA == 'Belo Horizonte') & \n",
    "    (df_mg.Q001 == 'G'),\n",
    "    [\"NU_NOTA_CN\", \"NU_NOTA_CH\", \"NU_NOTA_LC\", \"NU_NOTA_MT\"]\n",
    "].mean()"
   ]
  },
  {
   "cell_type": "markdown",
   "metadata": {},
   "source": [
    "7 - Qual a média das notas dos homens em: Ciências da Natureza, Ciências Humanas, Linguagens e Códigos e Matemática, cujo a mãe completou pós graduação e a tem renda familiar entre R\\\\$ 8.982,01 e R\\\\$ 9.980,00?"
   ]
  },
  {
   "cell_type": "code",
   "execution_count": 22,
   "metadata": {},
   "outputs": [
    {
     "data": {
      "text/plain": [
       "NU_NOTA_CN    564.237354\n",
       "NU_NOTA_CH    585.628463\n",
       "NU_NOTA_LC    574.169450\n",
       "NU_NOTA_MT    670.727237\n",
       "dtype: float64"
      ]
     },
     "execution_count": 22,
     "metadata": {},
     "output_type": "execute_result"
    }
   ],
   "source": [
    "df_mg.loc[\n",
    "    (df_mg.TP_SEXO == 'M') &\n",
    "    (df_mg.Q006 == 'M') & \n",
    "    (df_mg.Q001 == 'G'),\n",
    "    [\"NU_NOTA_CN\", \"NU_NOTA_CH\", \"NU_NOTA_LC\", \"NU_NOTA_MT\"]\n",
    "].mean()"
   ]
  },
  {
   "cell_type": "markdown",
   "metadata": {},
   "source": [
    "8 - Qual a média das notas dos homens em: Ciências da Natureza, Ciências Humanas, Linguagens e Códigos e Matemática, cujo o pai completou pós graduação e a tem renda familiar entre R\\\\$ 8.982,01 e R\\\\$ 9.980,00 dos alunos das cidades de Belo Horizonte, Sabará, Betim e Nova Lima?"
   ]
  },
  {
   "cell_type": "code",
   "execution_count": 33,
   "metadata": {},
   "outputs": [
    {
     "data": {
      "text/plain": [
       "NU_NOTA_CN    580.758741\n",
       "NU_NOTA_CH    609.679605\n",
       "NU_NOTA_LC    590.807895\n",
       "NU_NOTA_MT    701.646154\n",
       "dtype: float64"
      ]
     },
     "execution_count": 33,
     "metadata": {},
     "output_type": "execute_result"
    }
   ],
   "source": [
    "df_mg.loc[\n",
    "    (df_mg.TP_SEXO == 'M') &\n",
    "    (df_mg.Q006 == 'M') & \n",
    "    (df_mg.Q001 == 'G') & \n",
    "    (df_mg.NO_MUNICIPIO_RESIDENCIA.isin(['Belo Horizonte', 'Sabará', 'Betim', 'Nova Lima'])),\n",
    "    [\"NU_NOTA_CN\", \"NU_NOTA_CH\", \"NU_NOTA_LC\", \"NU_NOTA_MT\"]\n",
    "].mean()"
   ]
  },
  {
   "cell_type": "markdown",
   "metadata": {},
   "source": [
    "9 - Qual a média das notas dos homens em: Ciências da Natureza, Ciências Humanas, Linguagens e Códigos e Matemática com mais de 17 anos?"
   ]
  },
  {
   "cell_type": "code",
   "execution_count": 46,
   "metadata": {},
   "outputs": [
    {
     "data": {
      "text/plain": [
       "NU_NOTA_CN    502.395157\n",
       "NU_NOTA_CH    529.062781\n",
       "NU_NOTA_LC    531.696064\n",
       "NU_NOTA_MT    568.143453\n",
       "dtype: float64"
      ]
     },
     "execution_count": 46,
     "metadata": {},
     "output_type": "execute_result"
    }
   ],
   "source": [
    "df_mg.loc[\n",
    "    (df_mg.TP_SEXO == 'M') &\n",
    "    (df_mg.NU_IDADE > 17),\n",
    "    [\"NU_NOTA_CN\", \"NU_NOTA_CH\", \"NU_NOTA_LC\", \"NU_NOTA_MT\"]\n",
    "].mean()"
   ]
  },
  {
   "cell_type": "markdown",
   "metadata": {},
   "source": [
    "10 - Qual a média das notas das mulheres em: Ciências da Natureza, Ciências Humanas, Linguagens e Códigos e Matemática entre 25 e 40 anos?"
   ]
  },
  {
   "cell_type": "code",
   "execution_count": 48,
   "metadata": {},
   "outputs": [
    {
     "data": {
      "text/plain": [
       "NU_NOTA_CN    481.107571\n",
       "NU_NOTA_CH    514.535680\n",
       "NU_NOTA_LC    527.293831\n",
       "NU_NOTA_MT    504.355505\n",
       "dtype: float64"
      ]
     },
     "execution_count": 48,
     "metadata": {},
     "output_type": "execute_result"
    }
   ],
   "source": [
    "df_mg.loc[\n",
    "    (df_mg.TP_SEXO == 'F') &\n",
    "    (df_mg.NU_IDADE >= 25) &\n",
    "    (df_mg.NU_IDADE <= 40),\n",
    "    [\"NU_NOTA_CN\", \"NU_NOTA_CH\", \"NU_NOTA_LC\", \"NU_NOTA_MT\"]\n",
    "].mean()"
   ]
  },
  {
   "cell_type": "markdown",
   "metadata": {},
   "source": [
    "**Final da etapa de análise exploratória.**"
   ]
  }
 ],
 "metadata": {
  "kernelspec": {
   "display_name": "Python 3",
   "language": "python",
   "name": "python3"
  },
  "language_info": {
   "codemirror_mode": {
    "name": "ipython",
    "version": 3
   },
   "file_extension": ".py",
   "mimetype": "text/x-python",
   "name": "python",
   "nbconvert_exporter": "python",
   "pygments_lexer": "ipython3",
   "version": "3.7.0"
  }
 },
 "nbformat": 4,
 "nbformat_minor": 2
}
