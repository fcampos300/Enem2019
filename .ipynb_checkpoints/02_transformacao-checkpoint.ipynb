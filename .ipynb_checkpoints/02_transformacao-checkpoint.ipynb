{
 "cells": [
  {
   "cell_type": "markdown",
   "metadata": {},
   "source": [
    "# Transformação dos dados do Enem de 2019 dos alunos residentes em MG"
   ]
  },
  {
   "cell_type": "markdown",
   "metadata": {},
   "source": [
    "**1 - Importa as bibliotecas necessárias para rodar esse notebook.**"
   ]
  },
  {
   "cell_type": "code",
   "execution_count": 1,
   "metadata": {},
   "outputs": [],
   "source": [
    "import pandas as pd\n",
    "import numpy as np\n",
    "import os"
   ]
  },
  {
   "cell_type": "markdown",
   "metadata": {},
   "source": [
    "**2 - Carrega o arquivo com os dados filtrados no notebook anterior.**"
   ]
  },
  {
   "cell_type": "code",
   "execution_count": 2,
   "metadata": {},
   "outputs": [
    {
     "name": "stdout",
     "output_type": "stream",
     "text": [
      "Wall time: 17.2 s\n"
     ]
    }
   ],
   "source": [
    "%%time\n",
    "folder_enem = 'enem2019'\n",
    "df_mg = pd.read_csv(f'./{folder_enem}/MICRODADOS_ENEM_2019_MG.csv', sep=';', encoding='utf-8')"
   ]
  },
  {
   "cell_type": "code",
   "execution_count": 3,
   "metadata": {},
   "outputs": [
    {
     "data": {
      "text/html": [
       "<div>\n",
       "<style scoped>\n",
       "    .dataframe tbody tr th:only-of-type {\n",
       "        vertical-align: middle;\n",
       "    }\n",
       "\n",
       "    .dataframe tbody tr th {\n",
       "        vertical-align: top;\n",
       "    }\n",
       "\n",
       "    .dataframe thead th {\n",
       "        text-align: right;\n",
       "    }\n",
       "</style>\n",
       "<table border=\"1\" class=\"dataframe\">\n",
       "  <thead>\n",
       "    <tr style=\"text-align: right;\">\n",
       "      <th></th>\n",
       "      <th>Unnamed: 0</th>\n",
       "      <th>NU_INSCRICAO</th>\n",
       "      <th>NU_ANO</th>\n",
       "      <th>CO_MUNICIPIO_RESIDENCIA</th>\n",
       "      <th>NO_MUNICIPIO_RESIDENCIA</th>\n",
       "      <th>CO_UF_RESIDENCIA</th>\n",
       "      <th>SG_UF_RESIDENCIA</th>\n",
       "      <th>NU_IDADE</th>\n",
       "      <th>TP_SEXO</th>\n",
       "      <th>TP_ESTADO_CIVIL</th>\n",
       "      <th>...</th>\n",
       "      <th>Q016</th>\n",
       "      <th>Q017</th>\n",
       "      <th>Q018</th>\n",
       "      <th>Q019</th>\n",
       "      <th>Q020</th>\n",
       "      <th>Q021</th>\n",
       "      <th>Q022</th>\n",
       "      <th>Q023</th>\n",
       "      <th>Q024</th>\n",
       "      <th>Q025</th>\n",
       "    </tr>\n",
       "  </thead>\n",
       "  <tbody>\n",
       "    <tr>\n",
       "      <th>0</th>\n",
       "      <td>1044</td>\n",
       "      <td>190001005671</td>\n",
       "      <td>2019</td>\n",
       "      <td>3170206</td>\n",
       "      <td>Uberlândia</td>\n",
       "      <td>31</td>\n",
       "      <td>MG</td>\n",
       "      <td>21</td>\n",
       "      <td>M</td>\n",
       "      <td>1</td>\n",
       "      <td>...</td>\n",
       "      <td>B</td>\n",
       "      <td>A</td>\n",
       "      <td>A</td>\n",
       "      <td>D</td>\n",
       "      <td>A</td>\n",
       "      <td>A</td>\n",
       "      <td>D</td>\n",
       "      <td>B</td>\n",
       "      <td>B</td>\n",
       "      <td>B</td>\n",
       "    </tr>\n",
       "    <tr>\n",
       "      <th>1</th>\n",
       "      <td>5234</td>\n",
       "      <td>190001009861</td>\n",
       "      <td>2019</td>\n",
       "      <td>3111705</td>\n",
       "      <td>Canaã</td>\n",
       "      <td>31</td>\n",
       "      <td>MG</td>\n",
       "      <td>20</td>\n",
       "      <td>M</td>\n",
       "      <td>1</td>\n",
       "      <td>...</td>\n",
       "      <td>A</td>\n",
       "      <td>A</td>\n",
       "      <td>A</td>\n",
       "      <td>B</td>\n",
       "      <td>A</td>\n",
       "      <td>A</td>\n",
       "      <td>C</td>\n",
       "      <td>A</td>\n",
       "      <td>A</td>\n",
       "      <td>A</td>\n",
       "    </tr>\n",
       "    <tr>\n",
       "      <th>2</th>\n",
       "      <td>16995</td>\n",
       "      <td>190001021622</td>\n",
       "      <td>2019</td>\n",
       "      <td>3104007</td>\n",
       "      <td>Araxá</td>\n",
       "      <td>31</td>\n",
       "      <td>MG</td>\n",
       "      <td>24</td>\n",
       "      <td>M</td>\n",
       "      <td>1</td>\n",
       "      <td>...</td>\n",
       "      <td>A</td>\n",
       "      <td>A</td>\n",
       "      <td>A</td>\n",
       "      <td>C</td>\n",
       "      <td>B</td>\n",
       "      <td>A</td>\n",
       "      <td>C</td>\n",
       "      <td>A</td>\n",
       "      <td>A</td>\n",
       "      <td>B</td>\n",
       "    </tr>\n",
       "    <tr>\n",
       "      <th>3</th>\n",
       "      <td>22008</td>\n",
       "      <td>190001026636</td>\n",
       "      <td>2019</td>\n",
       "      <td>3106200</td>\n",
       "      <td>Belo Horizonte</td>\n",
       "      <td>31</td>\n",
       "      <td>MG</td>\n",
       "      <td>33</td>\n",
       "      <td>M</td>\n",
       "      <td>1</td>\n",
       "      <td>...</td>\n",
       "      <td>B</td>\n",
       "      <td>A</td>\n",
       "      <td>B</td>\n",
       "      <td>B</td>\n",
       "      <td>A</td>\n",
       "      <td>A</td>\n",
       "      <td>D</td>\n",
       "      <td>A</td>\n",
       "      <td>D</td>\n",
       "      <td>B</td>\n",
       "    </tr>\n",
       "    <tr>\n",
       "      <th>4</th>\n",
       "      <td>22114</td>\n",
       "      <td>190001026742</td>\n",
       "      <td>2019</td>\n",
       "      <td>3162401</td>\n",
       "      <td>São João da Ponte</td>\n",
       "      <td>31</td>\n",
       "      <td>MG</td>\n",
       "      <td>23</td>\n",
       "      <td>M</td>\n",
       "      <td>1</td>\n",
       "      <td>...</td>\n",
       "      <td>A</td>\n",
       "      <td>A</td>\n",
       "      <td>A</td>\n",
       "      <td>B</td>\n",
       "      <td>B</td>\n",
       "      <td>A</td>\n",
       "      <td>C</td>\n",
       "      <td>A</td>\n",
       "      <td>B</td>\n",
       "      <td>A</td>\n",
       "    </tr>\n",
       "  </tbody>\n",
       "</table>\n",
       "<p>5 rows × 137 columns</p>\n",
       "</div>"
      ],
      "text/plain": [
       "   Unnamed: 0  NU_INSCRICAO  NU_ANO  CO_MUNICIPIO_RESIDENCIA  \\\n",
       "0        1044  190001005671    2019                  3170206   \n",
       "1        5234  190001009861    2019                  3111705   \n",
       "2       16995  190001021622    2019                  3104007   \n",
       "3       22008  190001026636    2019                  3106200   \n",
       "4       22114  190001026742    2019                  3162401   \n",
       "\n",
       "  NO_MUNICIPIO_RESIDENCIA  CO_UF_RESIDENCIA SG_UF_RESIDENCIA  NU_IDADE  \\\n",
       "0              Uberlândia                31               MG        21   \n",
       "1                   Canaã                31               MG        20   \n",
       "2                   Araxá                31               MG        24   \n",
       "3          Belo Horizonte                31               MG        33   \n",
       "4       São João da Ponte                31               MG        23   \n",
       "\n",
       "  TP_SEXO  TP_ESTADO_CIVIL  ...   Q016  Q017  Q018 Q019  Q020 Q021  Q022  \\\n",
       "0       M                1  ...      B     A     A    D     A    A     D   \n",
       "1       M                1  ...      A     A     A    B     A    A     C   \n",
       "2       M                1  ...      A     A     A    C     B    A     C   \n",
       "3       M                1  ...      B     A     B    B     A    A     D   \n",
       "4       M                1  ...      A     A     A    B     B    A     C   \n",
       "\n",
       "   Q023  Q024  Q025  \n",
       "0     B     B     B  \n",
       "1     A     A     A  \n",
       "2     A     A     B  \n",
       "3     A     D     B  \n",
       "4     A     B     A  \n",
       "\n",
       "[5 rows x 137 columns]"
      ]
     },
     "execution_count": 3,
     "metadata": {},
     "output_type": "execute_result"
    }
   ],
   "source": [
    "df_mg.head()"
   ]
  },
  {
   "cell_type": "code",
   "execution_count": 4,
   "metadata": {},
   "outputs": [
    {
     "name": "stdout",
     "output_type": "stream",
     "text": [
      "<class 'pandas.core.frame.DataFrame'>\n",
      "RangeIndex: 538896 entries, 0 to 538895\n",
      "Columns: 137 entries, Unnamed: 0 to Q025\n",
      "dtypes: float64(24), int64(72), object(41)\n",
      "memory usage: 563.3+ MB\n"
     ]
    }
   ],
   "source": [
    "df_mg.info()"
   ]
  },
  {
   "cell_type": "markdown",
   "metadata": {},
   "source": [
    "**3 - Cria um campo de descrição para o Estado Civil e insere no DataFrame.**"
   ]
  },
  {
   "cell_type": "code",
   "execution_count": 5,
   "metadata": {},
   "outputs": [],
   "source": [
    "df_mg['TP_ESTADO_CIVIL_DESC'] = df_mg.TP_ESTADO_CIVIL.replace({\n",
    "    0: \"Não Informado\",\n",
    "    1: \"Solteiro(a)\",\n",
    "    2: \"Casado(a)/Mora com companheiro(a)\",\n",
    "    3: \"Divorciado(a)/Desquitado(a)/Separado(a)\",\n",
    "    4: \"Viúvo(a)\",\n",
    "})"
   ]
  },
  {
   "cell_type": "code",
   "execution_count": 6,
   "metadata": {},
   "outputs": [
    {
     "data": {
      "text/plain": [
       "Solteiro(a)                                470730\n",
       "Casado(a)/Mora com companheiro(a)           41616\n",
       "Não Informado                               16164\n",
       "Divorciado(a)/Desquitado(a)/Separado(a)      9684\n",
       "Viúvo(a)                                      702\n",
       "Name: TP_ESTADO_CIVIL_DESC, dtype: int64"
      ]
     },
     "execution_count": 6,
     "metadata": {},
     "output_type": "execute_result"
    }
   ],
   "source": [
    "df_mg.TP_ESTADO_CIVIL_DESC.value_counts()"
   ]
  },
  {
   "cell_type": "markdown",
   "metadata": {},
   "source": [
    "**4 - Cria um campo de descrição para Cor/raça e insere no DataFrame.**"
   ]
  },
  {
   "cell_type": "code",
   "execution_count": 7,
   "metadata": {},
   "outputs": [],
   "source": [
    "df_mg['TP_COR_RACA_DESC'] = df_mg.TP_COR_RACA.replace({\n",
    "    0: \"Não declarado\",\n",
    "    1: \"Branca\",\n",
    "    2: \"Preta\",\n",
    "    3: \"Parda\",\n",
    "    4: \"Amarela\",\n",
    "    5: \"Indígena\"\n",
    "})"
   ]
  },
  {
   "cell_type": "code",
   "execution_count": 8,
   "metadata": {},
   "outputs": [
    {
     "data": {
      "text/plain": [
       "Parda            234332\n",
       "Branca           203996\n",
       "Preta             75604\n",
       "Amarela           11867\n",
       "Não declarado     10936\n",
       "Indígena           2161\n",
       "Name: TP_COR_RACA_DESC, dtype: int64"
      ]
     },
     "execution_count": 8,
     "metadata": {},
     "output_type": "execute_result"
    }
   ],
   "source": [
    "df_mg.TP_COR_RACA_DESC.value_counts()"
   ]
  },
  {
   "cell_type": "markdown",
   "metadata": {},
   "source": [
    "**5 - Cria um campo de descrição para Nacionalidade e insere no DataFrame.**"
   ]
  },
  {
   "cell_type": "code",
   "execution_count": 10,
   "metadata": {},
   "outputs": [],
   "source": [
    "df_mg['TP_NACIONALIDADE_DESC'] = df_mg.TP_NACIONALIDADE.replace({\n",
    "    0: \"Não declarado\",\n",
    "    1: \"Brasileiro(a)\",\n",
    "    2: \"Brasileiro(a) Naturalizado(a)\",\n",
    "    3: \"Estrangeiro(a)\",\n",
    "    4: \"Brasileiro(a) Nato(a), nascido(a) no exterior\"\n",
    "})"
   ]
  },
  {
   "cell_type": "code",
   "execution_count": 11,
   "metadata": {},
   "outputs": [
    {
     "data": {
      "text/plain": [
       "Brasileiro(a)                                    522740\n",
       "Brasileiro(a) Naturalizado(a)                     14189\n",
       "Brasileiro(a) Nato(a), nascido(a) no exterior       883\n",
       "Não declarado                                       713\n",
       "Estrangeiro(a)                                      371\n",
       "Name: TP_NACIONALIDADE_DESC, dtype: int64"
      ]
     },
     "execution_count": 11,
     "metadata": {},
     "output_type": "execute_result"
    }
   ],
   "source": [
    "df_mg.TP_NACIONALIDADE_DESC.value_counts()"
   ]
  },
  {
   "cell_type": "markdown",
   "metadata": {},
   "source": [
    "**6 - Cria um campo de descrição para Situação de conclusão do Ensino Médio e insere no DataFrame.**"
   ]
  },
  {
   "cell_type": "code",
   "execution_count": 12,
   "metadata": {},
   "outputs": [],
   "source": [
    "df_mg['TP_ST_CONCLUSAO_DESC'] = df_mg.TP_ST_CONCLUSAO.replace({\n",
    "    1: \"Já concluí o Ensino Médio\",\n",
    "    2: \"Estou cursando e concluirei o Ensino Médio em 2019\",\n",
    "    3: \"Estou cursando e concluirei o Ensino Médio após 2019\",\n",
    "    4: \"Não concluí e não estou cursando o Ensino Médio\"\n",
    "})"
   ]
  },
  {
   "cell_type": "code",
   "execution_count": 13,
   "metadata": {},
   "outputs": [
    {
     "data": {
      "text/plain": [
       "Já concluí o Ensino Médio                               323768\n",
       "Estou cursando e concluirei o Ensino Médio em 2019      142966\n",
       "Estou cursando e concluirei o Ensino Médio após 2019     70069\n",
       "Não concluí e não estou cursando o Ensino Médio           2093\n",
       "Name: TP_ST_CONCLUSAO_DESC, dtype: int64"
      ]
     },
     "execution_count": 13,
     "metadata": {},
     "output_type": "execute_result"
    }
   ],
   "source": [
    "df_mg.TP_ST_CONCLUSAO_DESC.value_counts()"
   ]
  },
  {
   "cell_type": "markdown",
   "metadata": {},
   "source": [
    "**7 - Cria um campo de descrição para Tipo de escola do Ensino Médio e insere no DataFrame.**"
   ]
  },
  {
   "cell_type": "code",
   "execution_count": 14,
   "metadata": {},
   "outputs": [],
   "source": [
    "df_mg['TP_ESCOLA_DESC'] = df_mg.TP_ESCOLA.replace({\n",
    "    1: \"Não Respondeu\",\n",
    "    2: \"Pública\",\n",
    "    3: \"Privada\",\n",
    "    4: \"Exterior\"\n",
    "})"
   ]
  },
  {
   "cell_type": "code",
   "execution_count": 15,
   "metadata": {},
   "outputs": [
    {
     "data": {
      "text/plain": [
       "Não Respondeu    395930\n",
       "Pública          126057\n",
       "Privada           16909\n",
       "Name: TP_ESCOLA_DESC, dtype: int64"
      ]
     },
     "execution_count": 15,
     "metadata": {},
     "output_type": "execute_result"
    }
   ],
   "source": [
    "df_mg.TP_ESCOLA_DESC.value_counts()"
   ]
  },
  {
   "cell_type": "markdown",
   "metadata": {},
   "source": [
    "**8 - Cria um campo de descrição para Tipo de instituição que concluiu ou concluirá o Ensino Médio e insere no DataFrame.**"
   ]
  },
  {
   "cell_type": "code",
   "execution_count": 16,
   "metadata": {},
   "outputs": [],
   "source": [
    "df_mg['TP_ENSINO_DESC'] = df_mg.TP_ENSINO.replace({\n",
    "    1: \"Ensino Regular\",\n",
    "    2: \"Educação Especial - Modalidade Substitutiva\",\n",
    "    3: \"Educação de Jovens e Adultos\"\n",
    "})"
   ]
  },
  {
   "cell_type": "code",
   "execution_count": 17,
   "metadata": {},
   "outputs": [
    {
     "data": {
      "text/plain": [
       "Ensino Regular                                 288793\n",
       "Educação Especial - Modalidade Substitutiva      1844\n",
       "Name: TP_ENSINO_DESC, dtype: int64"
      ]
     },
     "execution_count": 17,
     "metadata": {},
     "output_type": "execute_result"
    }
   ],
   "source": [
    "df_mg.TP_ENSINO_DESC.value_counts()"
   ]
  },
  {
   "cell_type": "markdown",
   "metadata": {},
   "source": [
    "**9 - Cria um campo de descrição para Situação da redação do participante e insere no DataFrame.**"
   ]
  },
  {
   "cell_type": "code",
   "execution_count": 18,
   "metadata": {},
   "outputs": [],
   "source": [
    "df_mg['TP_STATUS_REDACAO_DESC'] = df_mg.TP_STATUS_REDACAO.replace({\n",
    "    1: \"Sem problemas\",\n",
    "    2: \"Anulada\",\n",
    "    3: \"Cópia Texto Motivador\",\n",
    "    4: \"Em Branco\",\n",
    "    6: \"Fuga ao tema\",\n",
    "    7: \"Não atendimento ao tipo textual\",\n",
    "    8: \"Texto insuficiente\",\n",
    "    9: \"Parte desconectada\",\n",
    "})"
   ]
  },
  {
   "cell_type": "code",
   "execution_count": 19,
   "metadata": {},
   "outputs": [
    {
     "data": {
      "text/plain": [
       "Sem problemas                      402541\n",
       "Em Branco                            5041\n",
       "Fuga ao tema                         2709\n",
       "Cópia Texto Motivador                1907\n",
       "Texto insuficiente                    665\n",
       "Anulada                               649\n",
       "Não atendimento ao tipo textual       432\n",
       "Parte desconectada                    402\n",
       "Name: TP_STATUS_REDACAO_DESC, dtype: int64"
      ]
     },
     "execution_count": 19,
     "metadata": {},
     "output_type": "execute_result"
    }
   ],
   "source": [
    "df_mg.TP_STATUS_REDACAO_DESC.value_counts()"
   ]
  },
  {
   "cell_type": "markdown",
   "metadata": {},
   "source": [
    "**10 - Vamos substituir o arquivo CSV por esse com as transformações.**"
   ]
  },
  {
   "cell_type": "code",
   "execution_count": 20,
   "metadata": {},
   "outputs": [],
   "source": [
    "df_mg.to_csv( f\"./{folder_enem}/MICRODADOS_ENEM_2019_MG.csv\", sep=';', encoding='utf-8')"
   ]
  },
  {
   "cell_type": "markdown",
   "metadata": {},
   "source": [
    "**Final da etapa de transformação.**"
   ]
  }
 ],
 "metadata": {
  "kernelspec": {
   "display_name": "Python 3",
   "language": "python",
   "name": "python3"
  },
  "language_info": {
   "codemirror_mode": {
    "name": "ipython",
    "version": 3
   },
   "file_extension": ".py",
   "mimetype": "text/x-python",
   "name": "python",
   "nbconvert_exporter": "python",
   "pygments_lexer": "ipython3",
   "version": "3.7.0"
  }
 },
 "nbformat": 4,
 "nbformat_minor": 2
}
